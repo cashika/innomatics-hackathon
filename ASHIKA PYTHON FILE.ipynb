{
 "cells": [
  {
   "cell_type": "code",
   "execution_count": 14,
   "id": "07e007ca",
   "metadata": {},
   "outputs": [
    {
     "name": "stdout",
     "output_type": "stream",
     "text": [
      "(100836, 4)\n"
     ]
    }
   ],
   "source": [
    "import pandas as pd\n",
    "\n",
    "# Assuming 'movies.csv' is in the current working directory\n",
    "file_path = 'ratings.csv'\n",
    "\n",
    "# Read the CSV file into a Pandas DataFrame\n",
    "df = pd.read_csv(file_path)\n",
    "\n",
    "# Display the shape of the DataFrame\n",
    "print(df.shape)\n"
   ]
  },
  {
   "cell_type": "code",
   "execution_count": 15,
   "id": "dffc2d92",
   "metadata": {},
   "outputs": [
    {
     "name": "stdout",
     "output_type": "stream",
     "text": [
      "Number of unique userId values: 610\n"
     ]
    }
   ],
   "source": [
    "import pandas as pd\n",
    "\n",
    "# Assuming 'ratings.csv' is in the current working directory\n",
    "file_path = 'ratings.csv'\n",
    "\n",
    "# Read the CSV file into a Pandas DataFrame\n",
    "ratings_df = pd.read_csv(file_path)\n",
    "\n",
    "# Find the number of unique 'userId' values\n",
    "unique_user_ids = ratings_df['userId'].nunique()\n",
    "\n",
    "print(\"Number of unique userId values:\", unique_user_ids)\n"
   ]
  },
  {
   "cell_type": "code",
   "execution_count": 16,
   "id": "92ca8025",
   "metadata": {},
   "outputs": [
    {
     "name": "stdout",
     "output_type": "stream",
     "text": [
      "Movie with the maximum number of user ratings: Forrest Gump (1994)\n"
     ]
    }
   ],
   "source": [
    "import pandas as pd\n",
    "\n",
    "# Assuming 'ratings.csv' and 'movies.csv' are in the current working directory\n",
    "ratings_file_path = 'ratings.csv'\n",
    "movies_file_path = 'movies.csv'\n",
    "\n",
    "# Read the CSV files into Pandas DataFrames\n",
    "ratings_df = pd.read_csv(ratings_file_path)\n",
    "movies_df = pd.read_csv(movies_file_path)\n",
    "\n",
    "# Merge the ratings and movies DataFrames on 'movieId'\n",
    "merged_df = pd.merge(ratings_df, movies_df, on='movieId')\n",
    "\n",
    "# Group by movie title and calculate the count of ratings\n",
    "movie_ratings_count = merged_df.groupby('title')['rating'].count()\n",
    "\n",
    "# Find the movie with the maximum number of ratings\n",
    "max_rated_movie = movie_ratings_count.idxmax()\n",
    "\n",
    "print(\"Movie with the maximum number of user ratings:\", max_rated_movie)\n"
   ]
  },
  {
   "cell_type": "code",
   "execution_count": 18,
   "id": "e635d820",
   "metadata": {},
   "outputs": [
    {
     "name": "stdout",
     "output_type": "stream",
     "text": [
      "Tags submitted by users for 'Matrix, The (1999)':\n",
      "['martial arts' 'sci-fi' 'alternate universe' 'philosophy'\n",
      " 'post apocalyptic']\n"
     ]
    }
   ],
   "source": [
    "import pandas as pd\n",
    "\n",
    "# Assuming 'tags.csv' and 'movies.csv' are in the current working directory\n",
    "tags_file_path = 'tags.csv'\n",
    "movies_file_path = 'movies.csv'\n",
    "\n",
    "# Read the CSV files into Pandas DataFrames\n",
    "tags_df = pd.read_csv(tags_file_path)\n",
    "movies_df = pd.read_csv(movies_file_path)\n",
    "\n",
    "# Filter rows for \"Matrix, The (1999)\"\n",
    "matrix_movie = movies_df[movies_df['title'] == 'Matrix, The (1999)']\n",
    "\n",
    "# Merge the tags and movies DataFrames on 'movieId'\n",
    "merged_tags_df = pd.merge(tags_df, matrix_movie, on='movieId')\n",
    "\n",
    "# Select the 'tag' column\n",
    "selected_tags = merged_tags_df['tag']\n",
    "\n",
    "# Display the unique tags\n",
    "unique_tags = selected_tags.unique()\n",
    "print(\"Tags submitted by users for 'Matrix, The (1999)':\")\n",
    "print(unique_tags)\n"
   ]
  },
  {
   "cell_type": "code",
   "execution_count": 20,
   "id": "e3d4b691",
   "metadata": {},
   "outputs": [
    {
     "name": "stdout",
     "output_type": "stream",
     "text": [
      "Average user rating for 'Terminator 2: Judgment Day (1991)': 3.970982142857143\n"
     ]
    }
   ],
   "source": [
    "import pandas as pd\n",
    "\n",
    "# Assuming 'ratings.csv' and 'movies.csv' are in the current working directory\n",
    "ratings_file_path = 'ratings.csv'\n",
    "movies_file_path = 'movies.csv'\n",
    "\n",
    "# Read the CSV files into Pandas DataFrames\n",
    "ratings_df = pd.read_csv(ratings_file_path)\n",
    "movies_df = pd.read_csv(movies_file_path)\n",
    "\n",
    "# Filter rows for \"Terminator 2: Judgment Day (1991)\"\n",
    "terminator_movie = movies_df[movies_df['title'] == 'Terminator 2: Judgment Day (1991)']\n",
    "\n",
    "# Merge the ratings and movies DataFrames on 'movieId'\n",
    "merged_df = pd.merge(ratings_df, terminator_movie, on='movieId')\n",
    "\n",
    "# Calculate the average user rating\n",
    "average_rating = merged_df['rating'].mean()\n",
    "\n",
    "print(\"Average user rating for 'Terminator 2: Judgment Day (1991)':\", average_rating)\n"
   ]
  },
  {
   "cell_type": "code",
   "execution_count": 21,
   "id": "92e84a85",
   "metadata": {},
   "outputs": [
    {
     "data": {
      "image/png": "[encoded data removed]",
      "text/plain": [
       "<Figure size 432x288 with 1 Axes>"
      ]
     },
     "metadata": {
      "needs_background": "light"
     },
     "output_type": "display_data"
    }
   ],
   "source": [
    "import pandas as pd\n",
    "import matplotlib.pyplot as plt\n",
    "\n",
    "# Assuming 'ratings.csv' and 'movies.csv' are in the current working directory\n",
    "ratings_file_path = 'ratings.csv'\n",
    "movies_file_path = 'movies.csv'\n",
    "\n",
    "# Read the CSV files into Pandas DataFrames\n",
    "ratings_df = pd.read_csv(ratings_file_path)\n",
    "movies_df = pd.read_csv(movies_file_path)\n",
    "\n",
    "# Filter rows for \"Fight Club (1999)\"\n",
    "fight_club_movie = movies_df[movies_df['title'] == 'Fight Club (1999)']\n",
    "\n",
    "# Merge the ratings and movies DataFrames on 'movieId'\n",
    "merged_df = pd.merge(ratings_df, fight_club_movie, on='movieId')\n",
    "\n",
    "# Plot a histogram of user ratings\n",
    "plt.hist(merged_df['rating'], bins=10, edgecolor='black')\n",
    "plt.title('Distribution of User Ratings for Fight Club (1999)')\n",
    "plt.xlabel('Rating')\n",
    "plt.ylabel('Frequency')\n",
    "plt.show()\n"
   ]
  },
  {
   "cell_type": "code",
   "execution_count": 22,
   "id": "8afa8131",
   "metadata": {},
   "outputs": [
    {
     "name": "stdout",
     "output_type": "stream",
     "text": [
      "Most popular movie based on average user ratings: 'Salem's Lot (2004)\n"
     ]
    }
   ],
   "source": [
    "import pandas as pd\n",
    "\n",
    "# Assuming 'ratings.csv' and 'movies.csv' are in the current working directory\n",
    "ratings_file_path = 'ratings.csv'\n",
    "movies_file_path = 'movies.csv'\n",
    "\n",
    "# Read the CSV files into Pandas DataFrames\n",
    "ratings_df = pd.read_csv(ratings_file_path)\n",
    "movies_df = pd.read_csv(movies_file_path)\n",
    "\n",
    "# Merge the ratings and movies DataFrames on 'movieId'\n",
    "merged_df = pd.merge(ratings_df, movies_df, on='movieId')\n",
    "\n",
    "# Calculate the average user rating for each movie\n",
    "average_ratings = merged_df.groupby('title')['rating'].mean()\n",
    "\n",
    "# Find the movie with the highest average rating\n",
    "most_popular_movie = average_ratings.idxmax()\n",
    "\n",
    "print(\"Most popular movie based on average user ratings:\", most_popular_movie)\n"
   ]
  },
  {
   "cell_type": "code",
   "execution_count": 23,
   "id": "8cf44754",
   "metadata": {},
   "outputs": [
    {
     "name": "stdout",
     "output_type": "stream",
     "text": [
      "Most popular movie based on average user ratings (with more than 50 ratings): Shawshank Redemption, The (1994)\n"
     ]
    }
   ],
   "source": [
    "import pandas as pd\n",
    "\n",
    "# Assuming 'ratings.csv' and 'movies.csv' are in the current working directory\n",
    "ratings_file_path = 'ratings.csv'\n",
    "movies_file_path = 'movies.csv'\n",
    "\n",
    "# Read the CSV files into Pandas DataFrames\n",
    "ratings_df = pd.read_csv(ratings_file_path)\n",
    "movies_df = pd.read_csv(movies_file_path)\n",
    "\n",
    "# Step 1: Group user ratings based on movieId and apply aggregation operations\n",
    "grouped_ratings = ratings_df.groupby('movieId')['rating'].agg(['count', 'mean']).reset_index()\n",
    "\n",
    "# Step 2: Apply inner join on dataframes created from movies.csv and the grouped df from step 1\n",
    "merged_df = pd.merge(movies_df, grouped_ratings, on='movieId', how='inner')\n",
    "\n",
    "# Step 3: Filter only those movies with more than 50 user ratings\n",
    "filtered_movies = merged_df[merged_df['count'] > 50]\n",
    "\n",
    "# Find the movie with the highest average rating among those with more than 50 ratings\n",
    "most_popular_movie = filtered_movies.loc[filtered_movies['mean'].idxmax(), 'title']\n",
    "\n",
    "print(\"Most popular movie based on average user ratings (with more than 50 ratings):\", most_popular_movie)\n"
   ]
  },
  {
   "cell_type": "code",
   "execution_count": 24,
   "id": "59ecfdc8",
   "metadata": {},
   "outputs": [
    {
     "name": "stdout",
     "output_type": "stream",
     "text": [
      "Top 5 popular movies based on the number of user ratings:\n",
      "314                  Forrest Gump (1994)\n",
      "277     Shawshank Redemption, The (1994)\n",
      "257                  Pulp Fiction (1994)\n",
      "510     Silence of the Lambs, The (1991)\n",
      "1938                  Matrix, The (1999)\n",
      "Name: title, dtype: object\n"
     ]
    }
   ],
   "source": [
    "import pandas as pd\n",
    "\n",
    "# Assuming 'ratings.csv' and 'movies.csv' are in the current working directory\n",
    "ratings_file_path = 'ratings.csv'\n",
    "movies_file_path = 'movies.csv'\n",
    "\n",
    "# Read the CSV files into Pandas DataFrames\n",
    "ratings_df = pd.read_csv(ratings_file_path)\n",
    "movies_df = pd.read_csv(movies_file_path)\n",
    "\n",
    "# Step 1: Group user ratings based on movieId and apply aggregation operations\n",
    "grouped_ratings = ratings_df.groupby('movieId')['rating'].agg(['count', 'mean']).reset_index()\n",
    "\n",
    "# Step 2: Apply inner join on dataframes created from movies.csv and the grouped df from step 1\n",
    "merged_df = pd.merge(movies_df, grouped_ratings, on='movieId', how='inner')\n",
    "\n",
    "# Step 3: Filter only those movies with more than 50 user ratings\n",
    "filtered_movies = merged_df[merged_df['count'] > 50]\n",
    "\n",
    "# Step 4: Sort movies based on the number of user ratings in descending order\n",
    "sorted_movies = filtered_movies.sort_values(by='count', ascending=False)\n",
    "\n",
    "# Step 5: Select the top 5 popular movies based on the number of user ratings\n",
    "top_5_movies = sorted_movies.head(5)\n",
    "\n",
    "# Display the titles of the top 5 movies\n",
    "print(\"Top 5 popular movies based on the number of user ratings:\")\n",
    "print(top_5_movies['title'])\n"
   ]
  },
  {
   "cell_type": "code",
   "execution_count": 25,
   "id": "a28d1835",
   "metadata": {},
   "outputs": [
    {
     "name": "stdout",
     "output_type": "stream",
     "text": [
      "Third most popular Sci-Fi movie based on the number of user ratings:\n",
      "Jurassic Park (1993)\n"
     ]
    }
   ],
   "source": [
    "import pandas as pd\n",
    "\n",
    "# Assuming 'ratings.csv' and 'movies.csv' are in the current working directory\n",
    "ratings_file_path = 'ratings.csv'\n",
    "movies_file_path = 'movies.csv'\n",
    "\n",
    "# Read the CSV files into Pandas DataFrames\n",
    "ratings_df = pd.read_csv(ratings_file_path)\n",
    "movies_df = pd.read_csv(movies_file_path)\n",
    "\n",
    "# Step 1: Group user ratings based on movieId and apply aggregation operations\n",
    "grouped_ratings = ratings_df.groupby('movieId')['rating'].agg(['count', 'mean']).reset_index()\n",
    "\n",
    "# Step 2: Apply inner join on dataframes created from movies.csv and the grouped df from step 1\n",
    "merged_df = pd.merge(movies_df, grouped_ratings, on='movieId', how='inner')\n",
    "\n",
    "# Step 3: Filter only those movies with more than 50 user ratings\n",
    "filtered_movies = merged_df[merged_df['count'] > 50]\n",
    "\n",
    "# Step 4: Filter Sci-Fi movies\n",
    "sci_fi_movies = filtered_movies[filtered_movies['genres'].str.contains('Sci-Fi')]\n",
    "\n",
    "# Step 5: Sort Sci-Fi movies based on the number of user ratings in descending order\n",
    "sorted_sci_fi_movies = sci_fi_movies.sort_values(by='count', ascending=False)\n",
    "\n",
    "# Step 6: Select the third most popular Sci-Fi movie\n",
    "third_most_popular_sci_fi = sorted_sci_fi_movies.iloc[2]\n",
    "\n",
    "print(\"Third most popular Sci-Fi movie based on the number of user ratings:\")\n",
    "print(third_most_popular_sci_fi['title'])\n"
   ]
  },
  {
   "cell_type": "code",
   "execution_count": 26,
   "id": "ded8dd8b",
   "metadata": {},
   "outputs": [
    {
     "name": "stdout",
     "output_type": "stream",
     "text": [
      "MovieId of the movie with the highest average user rating: 53\n"
     ]
    }
   ],
   "source": [
    "import pandas as pd\n",
    "\n",
    "# Assuming 'ratings.csv' is in the current working directory\n",
    "ratings_file_path = 'ratings.csv'\n",
    "\n",
    "# Read the CSV file into a Pandas DataFrame\n",
    "ratings_df = pd.read_csv(ratings_file_path)\n",
    "\n",
    "# Group user ratings based on movieId and calculate mean\n",
    "average_ratings = ratings_df.groupby('movieId')['rating'].mean().reset_index()\n",
    "\n",
    "# Find the movieId with the highest average rating\n",
    "highest_rated_movie_id = average_ratings.loc[average_ratings['rating'].idxmax(), 'movieId']\n",
    "\n",
    "print(\"MovieId of the movie with the highest average user rating:\", highest_rated_movie_id)\n"
   ]
  },
  {
   "cell_type": "code",
   "execution_count": 27,
   "id": "4622107f",
   "metadata": {},
   "outputs": [
    {
     "name": "stdout",
     "output_type": "stream",
     "text": [
      "MovieId of the Sci-Fi movie with the highest average user rating (IMDb): 3687\n"
     ]
    }
   ],
   "source": [
    "import pandas as pd\n",
    "\n",
    "# Assuming 'movies.csv' and 'ratings.csv' are in the current working directory\n",
    "movies_file_path = 'movies.csv'\n",
    "ratings_file_path = 'ratings.csv'\n",
    "\n",
    "# Read the CSV files into Pandas DataFrames\n",
    "movies_df = pd.read_csv(movies_file_path)\n",
    "ratings_df = pd.read_csv(ratings_file_path)\n",
    "\n",
    "# Step 1: Group user ratings based on movieId and apply aggregation operations\n",
    "grouped_ratings = ratings_df.groupby('movieId')['rating'].agg(['count', 'mean']).reset_index()\n",
    "\n",
    "# Step 2: Apply inner join on dataframes created from movies.csv and the grouped df from step 1\n",
    "merged_df = pd.merge(movies_df, grouped_ratings, on='movieId', how='inner')\n",
    "\n",
    "# Step 3: Filter Sci-Fi movies\n",
    "sci_fi_movies = merged_df[merged_df['genres'].str.contains('Sci-Fi')]\n",
    "\n",
    "# Step 4: Find the Sci-Fi movie with the highest average IMDb rating\n",
    "highest_rated_sci_fi_movie = sci_fi_movies.loc[sci_fi_movies['mean'].idxmax(), 'movieId']\n",
    "\n",
    "print(\"MovieId of the Sci-Fi movie with the highest average user rating (IMDb):\", highest_rated_sci_fi_movie)\n"
   ]
  },
  {
   "cell_type": "code",
   "execution_count": null,
   "id": "5d549035",
   "metadata": {},
   "outputs": [],
   "source": []
  }
 ],
 "metadata": {
  "kernelspec": {
   "display_name": "Python 3 (ipykernel)",
   "language": "python",
   "name": "python3"
  },
  "language_info": {
   "codemirror_mode": {
    "name": "ipython",
    "version": 3
   },
   "file_extension": ".py",
   "mimetype": "text/x-python",
   "name": "python",
   "nbconvert_exporter": "python",
   "pygments_lexer": "ipython3",
   "version": "3.9.12"
  }
 },
 "nbformat": 4,
 "nbformat_minor": 5
}
